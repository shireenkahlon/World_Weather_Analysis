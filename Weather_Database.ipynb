{
 "cells": [
  {
   "cell_type": "code",
   "execution_count": 44,
   "metadata": {},
   "outputs": [],
   "source": [
    "#import modules\n",
    "import pandas as pd\n",
    "from citipy import citipy\n",
    "import random\n",
    "import numpy as np\n",
    "from config import weather_api_key\n",
    "\n",
    "\n",
    "\n",
    "\n"
   ]
  },
  {
   "cell_type": "code",
   "execution_count": 46,
   "metadata": {},
   "outputs": [],
   "source": [
    "#find 2,000 random latitudes\n",
    "x=1\n",
    "latitudes=[]\n",
    "while x <= 2000:\n",
    "    random_lat=random.uniform(-90,89)\n",
    "    latitudes.append(random_lat)\n",
    "    x+=1"
   ]
  },
  {
   "cell_type": "code",
   "execution_count": 48,
   "metadata": {},
   "outputs": [],
   "source": [
    "# #find 2,000 random longitudes\n",
    "x=1\n",
    "longitudes=[]\n",
    "while x<=2000:\n",
    "    random_lng=random.uniform(-180,179)\n",
    "    longitudes.append(random_lng)\n",
    "    x+=1"
   ]
  },
  {
   "cell_type": "code",
   "execution_count": 50,
   "metadata": {},
   "outputs": [],
   "source": [
    "#zip and unzip latitudes and longitudes to combine them in one list\n",
    "lat_lng=zip(latitudes,longitudes)\n",
    "coordinates=list(lat_lng)\n"
   ]
  },
  {
   "cell_type": "code",
   "execution_count": 52,
   "metadata": {},
   "outputs": [],
   "source": [
    "cities=[]\n",
    "for coordinate in coordinates:\n",
    "    city=citipy.nearest_city(coordinate[0],coordinate[1]).city_name\n",
    "    if city not in cities:\n",
    "        cities.append(city)"
   ]
  },
  {
   "cell_type": "code",
   "execution_count": 53,
   "metadata": {},
   "outputs": [
    {
     "data": {
      "text/plain": [
       "{'cod': '400', 'message': 'Nothing to geocode'}"
      ]
     },
     "execution_count": 53,
     "metadata": {},
     "output_type": "execute_result"
    }
   ],
   "source": [
    "import requests\n",
    "url= \"http://api.openweathermap.org/data/2.5/weather?units=Imperial&APPID=\"+weather_api_key\n",
    "# print(url)\n",
    "# requests.get(url).json()\n",
    "# url_=\"https://api.openweathermap.org/data/2.5/weather?lat=35&lon=139&APPID=\"+weather_api_key\n",
    "requests.get(url).json()\n",
    "\n"
   ]
  },
  {
   "cell_type": "code",
   "execution_count": null,
   "metadata": {},
   "outputs": [
    {
     "name": "stdout",
     "output_type": "stream",
     "text": [
      "City not found. Skipping...\n"
     ]
    }
   ],
   "source": [
    "# Create an empty list to hold the weather data.\n",
    "city_data = []\n",
    "# # loop through cities\n",
    "for i, city in enumerate(cities):\n",
    "    try:\n",
    "        city_url = url + \"&q=\" + city.replace(\" \",\"+\")\n",
    "#         print(city_url)\n",
    "        city_weather=requests.get(city_url).json()\n",
    "        latitude = city_weather[\"coord\"][\"lat\"]\n",
    "        longitude=city_weather[\"coord\"][\"lon\"]\n",
    "        max_temp=city_weather[\"main\"][\"temp_max\"]\n",
    "        humidity=city_weather[\"main\"][\"humidity\"]\n",
    "        cloudiness=city_weather[\"clouds\"][\"all\"]\n",
    "        wind_speed=city_weather[\"wind\"][\"speed\"]\n",
    "        weather_description=city_weather[\"weather\"][0][\"description\"]\n",
    "        country=city_weather[\"sys\"][\"country\"]\n",
    "        city_data.append({\"City\":city.title(),\n",
    "                          \"Country\":country,\n",
    "                          \"Latitude\":latitude,\n",
    "                          \"Longitude\":longitude,\n",
    "                          \"Max Temperature\":max_temp,\n",
    "                          \"Humidity\":humidity,\n",
    "                          \"Cloudiness\":cloudiness,\n",
    "                          \"Wind Speed\":wind_speed,\n",
    "                          \"Current Description\":weather_description})\n",
    "    # If an error is experienced, skip the city.\n",
    "    except:\n",
    "        print(\"City not found. Skipping...\")\n",
    "        pass\n"
   ]
  },
  {
   "cell_type": "code",
   "execution_count": null,
   "metadata": {
    "scrolled": true
   },
   "outputs": [],
   "source": [
    "#make a dataframe\n",
    "city_weather_df=pd.DataFrame(city_data)\n",
    "city_weather_df.head(10)"
   ]
  },
  {
   "cell_type": "code",
   "execution_count": 32,
   "metadata": {},
   "outputs": [],
   "source": [
    "output_data_file=\"WeatherPy_database.csv\"\n",
    "city_weather_df.to_csv(output_data_file,index_label=city)"
   ]
  },
  {
   "cell_type": "code",
   "execution_count": null,
   "metadata": {},
   "outputs": [],
   "source": []
  },
  {
   "cell_type": "code",
   "execution_count": null,
   "metadata": {},
   "outputs": [],
   "source": []
  }
 ],
 "metadata": {
  "kernelspec": {
   "display_name": "PythonData",
   "language": "python",
   "name": "pythondata"
  },
  "language_info": {
   "codemirror_mode": {
    "name": "ipython",
    "version": 3
   },
   "file_extension": ".py",
   "mimetype": "text/x-python",
   "name": "python",
   "nbconvert_exporter": "python",
   "pygments_lexer": "ipython3",
   "version": "3.8.5"
  }
 },
 "nbformat": 4,
 "nbformat_minor": 4
}
